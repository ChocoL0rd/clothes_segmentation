{
 "cells": [
  {
   "cell_type": "code",
   "execution_count": 1,
   "id": "f2dd21cb",
   "metadata": {},
   "outputs": [],
   "source": [
    "import os\n",
    "\n",
    "import matplotlib.pyplot as plt\n",
    "import json\n",
    "import random\n",
    "\n",
    "random.seed(0)"
   ]
  },
  {
   "cell_type": "code",
   "execution_count": 2,
   "id": "0013e059",
   "metadata": {},
   "outputs": [],
   "source": [
    "test_dirs = {}\n",
    "train_dirs = {}"
   ]
  },
  {
   "cell_type": "code",
   "execution_count": 3,
   "id": "3aa1836a",
   "metadata": {
    "scrolled": true
   },
   "outputs": [
    {
     "name": "stdout",
     "output_type": "stream",
     "text": [
      "Кол-во директорий: 211\n",
      "kenguru_Школьная одежда___Водолазки : 8\n",
      "kenguru_Футболки_майки_поло_топы___Топы : 170\n",
      "kenguru_Школьная одежда___Платья_сарафаны : 22\n",
      "kenguru_Ремни : 53\n",
      "kenguru_Брюки___Бананы : 2\n",
      "kenguru_Украшения___Подвески и кулоны : 27\n",
      "kenguru_Головные уборы___Панамы : 219\n",
      "kenguru_Спортивная одежда___Леггинсы : 1\n",
      "puma_Сумки_рюкзаки и чемоданы___Мягкая сумка дафл (duffle bag) : 2\n",
      "kenguru_Юбки : 177\n",
      "kenguru_Футболки_майки_поло_топы : 11\n",
      "kenguru_Костюмы_пиджаки___Костюмы : 12\n",
      "kenguru_Домашняя одежда и бельё___Пижамы : 1\n",
      "kenguru_Брюки___Кожаные : 2\n",
      "kenguru_Джемперы_свитеры_кардиганы_кофты___Джемперы : 172\n",
      "kenguru_Платья_сарафаны : 931\n",
      "kenguru_Обувь___Мокасины : 8\n",
      "kenguru_Школьная одежда___Брюки : 35\n",
      "puma_Верхняя одежда___Жилеты (верхняя одежда) : 11\n",
      "puma_Верхняя одежда___Бомберы : 18\n",
      "puma_Шорты_бриджи : 6\n",
      "kenguru_Верхняя одежда___Пуховики : 187\n",
      "kenguru_Сумки_рюкзаки и чемоданы___Сумки через плечо : 127\n",
      "kenguru_Домашняя одежда и бельё___Колготки : 278\n",
      "kenguru_Верхняя одежда___Шубы : 29\n",
      "kenguru_Пляжная одежда : 11\n",
      "puma_Обувь___Бутсы : 141\n",
      "kenguru_Обувь : 74\n",
      "puma_Домашняя одежда и бельё___Носки : 347\n",
      "puma_Нижнее бельё : 278\n",
      "puma_Сумки_рюкзаки и чемоданы___Кроссбоди сумка : 9\n",
      "kenguru_Спортивная одежда___Костюмы : 107\n",
      "kenguru_Джемперы_свитеры_кардиганы_кофты___Кофты : 43\n",
      "kenguru_Головные уборы___Кепки : 13\n",
      "kenguru_Обувь___Босоножки : 161\n",
      "kenguru_Футболки_майки_поло_топы___Поло : 58\n",
      "kenguru_Комбинезоны : 743\n",
      "puma_Верхняя одежда___Пальто : 6\n",
      "kenguru_Блузки_рубашки___Джинсовые рубашки : 11\n",
      "puma_Толстовки_олимпийки_худи_лонгсливы : 109\n",
      "kenguru_Украшения : 27\n",
      "kenguru_Головные уборы___Береты : 8\n",
      "kenguru_Юбки___Ассиметричная : 1\n",
      "kenguru_Верхняя одежда___Дубленки : 2\n",
      "kenguru_Домашняя одежда и бельё : 145\n",
      "puma_Футболки_майки_поло_топы___Футболки : 1682\n",
      "puma_Головные уборы : 5\n",
      "kenguru_Брюки___Прямые : 10\n",
      "kenguru_Костюмы_пиджаки___Пиджаки : 93\n",
      "kenguru_Украшения___Колье : 38\n",
      "kenguru_Юбки___Миди : 2\n",
      "kenguru_Разное : 1\n",
      "kenguru_Школьная одежда___Костюмы : 5\n",
      "puma_Перчатки и варежки : 38\n",
      "kenguru_Платки_шарфы_шали___Шарфы : 265\n",
      "kenguru_Платья_сарафаны___Туники : 1\n",
      "kenguru_Домашняя одежда и бельё___Гольфы : 15\n",
      "kenguru_Школьная одежда___Кофты_кардиганы_джемперы : 10\n",
      "kenguru_Головные уборы : 143\n",
      "puma_Обувь___Кроссовки : 1441\n",
      "kenguru_Платья_сарафаны___Мини : 13\n",
      "puma_Футболки_майки_поло_топы___Топы : 180\n",
      "kenguru_Блузки_рубашки___Рубашки : 284\n",
      "kenguru_Юбки___Пачка : 2\n",
      "kenguru_Юбки___Карандаш : 5\n",
      "puma_Шорты_бриджи___Шорты : 465\n",
      "puma_Спортивная одежда___Леггинсы : 242\n",
      "puma_Головные уборы___Панамы : 10\n",
      "kenguru_Спортивная одежда___Спортивные куртки : 236\n",
      "kenguru_Толстовки_олимпийки_худи_лонгсливы : 345\n",
      "puma_Головные уборы___Кепки : 116\n",
      "kenguru_Головные уборы___Шапки : 1497\n",
      "puma_Другое : 65\n",
      "kenguru_Аксессуары___Галстуки_бабочки : 27\n",
      "kenguru_Джинсы___Широкие : 10\n",
      "kenguru_Джинсы : 262\n",
      "puma_Платки_шарфы_шали___Шарфы : 5\n",
      "kenguru_Спортивная одежда : 2\n",
      "puma_Разное : 109\n",
      "kenguru_Джемперы_свитеры_кардиганы_кофты___Свитшоты : 76\n",
      "kenguru_Головные уборы___Бейсболки : 293\n",
      "kenguru_Верхняя одежда___Ветровки : 78\n",
      "puma_Джемперы_свитеры_кардиганы_кофты___Свитшоты : 77\n",
      "puma_Обувь___Сандалии : 1\n",
      "puma_Кошельки : 5\n",
      "kenguru_Нижнее бельё : 67\n",
      "puma_Домашняя одежда и бельё___Гольфы : 4\n",
      "kenguru_Платья_сарафаны___Сарафаны : 78\n",
      "kenguru_Брюки___Классические : 31\n",
      "puma_Украшения___Комплекты : 52\n",
      "kenguru_Обувь___Лоферы : 19\n",
      "puma_Верхняя одежда___Парки : 2\n",
      "puma_Толстовки_олимпийки_худи_лонгсливы___Олимпийки : 209\n",
      "puma_Толстовки_олимпийки_худи_лонгсливы___Худи : 27\n",
      "puma_Головные уборы___Шапки : 238\n",
      "kenguru_Верхняя одежда___Жилеты (верхняя одежда) : 84\n",
      "kenguru_Спортивная одежда___Спортивные брюки : 556\n",
      "kenguru_Сумки_рюкзаки и чемоданы : 1\n",
      "puma_Джемперы_свитеры_кардиганы_кофты___Кардиганы : 1\n",
      "kenguru_Украшения___Комплекты : 1\n",
      "kenguru_Школьная одежда___Толстовки : 8\n",
      "kenguru_Брюки___Леггинсы : 204\n",
      "puma_Верхняя одежда___Куртки : 190\n",
      "kenguru_Джемперы_свитеры_кардиганы_кофты___Кардиганы : 77\n",
      "kenguru_Верхняя одежда___Плащи : 24\n",
      "kenguru_Пляжная одежда___Раздельные купальники : 4\n",
      "puma_Толстовки_олимпийки_худи_лонгсливы___Лонгсливы : 67\n",
      "kenguru_Джемперы_свитеры_кардиганы_кофты___Свитеры : 20\n",
      "kenguru_Платки_шарфы_шали___Платки : 4\n",
      "kenguru_Школьная одежда___Жилеты : 8\n",
      "puma_Верхняя одежда___Ветровки : 58\n",
      "kenguru_Шорты_бриджи : 26\n",
      "kenguru_Школьная одежда___Пиджаки_жакеты : 15\n",
      "kenguru_Толстовки_олимпийки_худи_лонгсливы___Лонгсливы : 2\n",
      "kenguru_Блузки_рубашки___Блузки : 49\n",
      "kenguru_Школьная одежда___Юбки : 19\n",
      "kenguru_Верхняя одежда___Куртки : 365\n",
      "kenguru_Перчатки и варежки : 307\n",
      "kenguru_Украшения___Ожерелья : 1\n",
      "kenguru_Другое : 80\n",
      "kenguru_Украшения___Серьги : 19\n",
      "kenguru_Обувь___Сапоги : 154\n",
      "puma_Комбинезоны : 5\n",
      "kenguru_Платья_сарафаны___Миди : 4\n",
      "kenguru_Обувь___Балетки : 10\n",
      "puma_Футболки_майки_поло_топы___Боди : 5\n",
      "kenguru_Шорты_бриджи___Шорты : 348\n",
      "kenguru_Толстовки_олимпийки_худи_лонгсливы___Худи : 9\n",
      "puma_Футболки_майки_поло_топы___Поло : 78\n",
      "kenguru_Головные уборы___Шляпы : 24\n",
      "kenguru_Верхняя одежда___Пальто : 60\n",
      "puma_Домашняя одежда и бельё___Халаты : 1\n",
      "kenguru_Джинсы___Прямые : 10\n",
      "kenguru_Джемперы_свитеры_кардиганы_кофты___Водолазки : 156\n",
      "kenguru_Домашняя одежда и бельё___Носки : 868\n",
      "kenguru_Юбки___Макси : 1\n",
      "kenguru_Шорты_бриджи___Джинсовые шорты : 53\n",
      "puma_Костюмы_пиджаки___Жилеты : 7\n",
      "kenguru_Обувь___Туфли : 125\n",
      "puma_Толстовки_олимпийки_худи_лонгсливы___Толстовки : 1057\n",
      "kenguru_Сумки_рюкзаки и чемоданы___Рюкзаки : 82\n",
      "puma_Верхняя одежда : 4\n",
      "puma_Обувь___Слипоны : 2\n",
      "kenguru_Школьная одежда___Галстуки_бабочки : 9\n",
      "puma_Обувь___Кеды : 451\n",
      "kenguru_Платья_сарафаны___Макси : 6\n",
      "kenguru_Обувь___Ботинки : 129\n",
      "kenguru_Юбки___Трапеция : 1\n",
      "puma_Футболки_майки_поло_топы___Майки : 75\n",
      "kenguru_Верхняя одежда___Джинсовые куртки : 67\n",
      "puma_Платья_сарафаны : 68\n",
      "kenguru_Футболки_майки_поло_топы___Футболки : 971\n",
      "puma_Аксессуары___Для волос : 15\n",
      "kenguru_Платья_сарафаны___Шелковые : 17\n",
      "puma_Пляжная одежда___Плавки : 95\n",
      "puma_Пляжная одежда : 32\n",
      "kenguru_Юбки___Юбка-шорты : 5\n",
      "puma_Юбки : 33\n",
      "puma_Пляжная одежда___Раздельные купальники : 12\n",
      "kenguru_Брюки___Спортивные брюки casual : 55\n",
      "kenguru_Обувь___Сандалии : 144\n",
      "kenguru_Брюки___Джоггеры : 33\n",
      "puma_Брюки : 805\n",
      "kenguru_Пляжная одежда___Слитные купальники : 17\n",
      "kenguru_Школьная одежда___Фартуки : 5\n",
      "puma_Аксессуары : 62\n",
      "kenguru_Юбки___Плиссе : 19\n",
      "kenguru_Юбки___Тюльпан : 1\n",
      "kenguru_Костюмы_пиджаки___Жилеты : 44\n",
      "puma_Спортивная одежда___Костюмы : 58\n",
      "kenguru_Брюки___Кюлоты : 4\n",
      "kenguru_Джинсы___Зауженные : 13\n",
      "kenguru_Украшения___Браслеты : 68\n",
      "puma_Сумки_рюкзаки и чемоданы___Рюкзаки : 241\n",
      "puma_Сумки_рюкзаки и чемоданы___Поясные сумки : 30\n",
      "puma_Джемперы_свитеры_кардиганы_кофты___Свитеры : 1\n",
      "kenguru_Джемперы_свитеры_кардиганы_кофты : 88\n",
      "kenguru_Школьная одежда___Рюкзаки_ранцы_сумки : 61\n",
      "puma_Сумки_рюкзаки и чемоданы___Тоут : 3\n",
      "kenguru_Аксессуары___Для волос : 764\n",
      "kenguru_Брюки___Карго : 19\n",
      "puma_Юбки___Миди : 2\n",
      "kenguru_Обувь___Кроссовки : 294\n",
      "kenguru_Юбки___Солнце : 1\n",
      "kenguru_Джинсы___Клеш : 26\n",
      "kenguru_Брюки___Клеш : 9\n",
      "kenguru_Школьная одежда___Шорты : 3\n",
      "puma_Сумки_рюкзаки и чемоданы : 221\n",
      "kenguru_Толстовки_олимпийки_худи_лонгсливы___Толстовки : 428\n",
      "puma_Обувь___Ботинки : 22\n",
      "puma_Спортивная одежда___Спортивные брюки : 42\n",
      "puma_Обувь___Шлепанцы : 88\n",
      "puma_Блузки_рубашки___Рубашки : 46\n",
      "kenguru_Обувь___Слипоны : 2\n",
      "kenguru_Футболки_майки_поло_топы___Майки : 30\n",
      "kenguru_Блузки_рубашки : 34\n",
      "kenguru_Обувь___Шлепанцы : 25\n",
      "kenguru_Обувь___Резиновые сапоги : 33\n",
      "kenguru_Брюки___Бермуды : 199\n",
      "kenguru_Брюки : 452\n",
      "kenguru_Обувь___Кеды : 298\n",
      "kenguru_Костюмы_пиджаки : 75\n",
      "puma_Футболки_майки_поло_топы : 22\n",
      "kenguru_Очки : 36\n",
      "kenguru_Футболки_майки_поло_топы___Боди : 168\n",
      "kenguru_Верхняя одежда___Парки : 9\n",
      "kenguru_Обувь___Эспадрильи : 2\n",
      "kenguru_Брюки___Укороченные : 2\n",
      "kenguru_Брюки___Широкие : 7\n",
      "kenguru_Школьная одежда___Блузы_рубашки : 57\n",
      "puma_Сумки_рюкзаки и чемоданы___Мессенджер : 2\n",
      "Общее кол-во картинок:26093\n"
     ]
    }
   ],
   "source": [
    "root_dir = \"full_data\"\n",
    "dir_names = os.listdir(root_dir)\n",
    "\n",
    "dir_dict = {}\n",
    "for dir_name in dir_names:\n",
    "    dir_dict[dir_name] = [\n",
    "        img_name.split(\".\")[0] for img_name in os.listdir(os.path.join(root_dir, dir_name)) \\\n",
    "        if img_name.split(\".\")[-1] == \"jpg\"\n",
    "    ]\n",
    "\n",
    "print(f\"Кол-во директорий: {len(dir_dict)}\")\n",
    "num_of_elements = 0\n",
    "for s in dir_dict.keys():\n",
    "    print(s, \":\", len(dir_dict[s]))\n",
    "    num_of_elements += len(dir_dict[s])\n",
    "\n",
    "print(f\"Общее кол-во картинок:{num_of_elements}\")"
   ]
  },
  {
   "cell_type": "markdown",
   "id": "c3378640",
   "metadata": {},
   "source": [
    "Отрисуем размеры директорий."
   ]
  },
  {
   "cell_type": "code",
   "execution_count": 4,
   "id": "d6539c3b",
   "metadata": {},
   "outputs": [
    {
     "data": {
      "image/png": "[encoded data removed]",
      "text/plain": [
       "<Figure size 640x480 with 1 Axes>"
      ]
     },
     "metadata": {},
     "output_type": "display_data"
    }
   ],
   "source": [
    "plt.bar(range(len(dir_dict)), sorted([len(i) for i in dir_dict.values()]), align='center', alpha=0.5)\n",
    "plt.ylabel(\"Кол-во картинок\")\n",
    "plt.xlabel(\"Директория\")\n",
    "plt.show()"
   ]
  },
  {
   "cell_type": "code",
   "execution_count": 5,
   "id": "83c4191b",
   "metadata": {
    "scrolled": true
   },
   "outputs": [
    {
     "name": "stdout",
     "output_type": "stream",
     "text": [
      "kenguru_Школьная одежда___Водолазки : 8\n",
      "kenguru_Школьная одежда___Платья_сарафаны : 22\n",
      "kenguru_Брюки___Бананы : 2\n",
      "kenguru_Спортивная одежда___Леггинсы : 1\n",
      "puma_Сумки_рюкзаки и чемоданы___Мягкая сумка дафл (duffle bag) : 2\n",
      "kenguru_Футболки_майки_поло_топы : 11\n",
      "kenguru_Костюмы_пиджаки___Костюмы : 12\n",
      "kenguru_Домашняя одежда и бельё___Пижамы : 1\n",
      "kenguru_Брюки___Кожаные : 2\n",
      "kenguru_Обувь___Мокасины : 8\n",
      "puma_Верхняя одежда___Жилеты (верхняя одежда) : 11\n",
      "puma_Верхняя одежда___Бомберы : 18\n",
      "puma_Шорты_бриджи : 6\n",
      "kenguru_Пляжная одежда : 11\n",
      "puma_Сумки_рюкзаки и чемоданы___Кроссбоди сумка : 9\n",
      "kenguru_Головные уборы___Кепки : 13\n",
      "puma_Верхняя одежда___Пальто : 6\n",
      "kenguru_Блузки_рубашки___Джинсовые рубашки : 11\n",
      "kenguru_Головные уборы___Береты : 8\n",
      "kenguru_Юбки___Ассиметричная : 1\n",
      "kenguru_Верхняя одежда___Дубленки : 2\n",
      "puma_Головные уборы : 5\n",
      "kenguru_Брюки___Прямые : 10\n",
      "kenguru_Юбки___Миди : 2\n",
      "kenguru_Разное : 1\n",
      "kenguru_Школьная одежда___Костюмы : 5\n",
      "kenguru_Платья_сарафаны___Туники : 1\n",
      "kenguru_Домашняя одежда и бельё___Гольфы : 15\n",
      "kenguru_Школьная одежда___Кофты_кардиганы_джемперы : 10\n",
      "kenguru_Платья_сарафаны___Мини : 13\n",
      "kenguru_Юбки___Пачка : 2\n",
      "kenguru_Юбки___Карандаш : 5\n",
      "puma_Головные уборы___Панамы : 10\n",
      "kenguru_Джинсы___Широкие : 10\n",
      "puma_Платки_шарфы_шали___Шарфы : 5\n",
      "kenguru_Спортивная одежда : 2\n",
      "puma_Обувь___Сандалии : 1\n",
      "puma_Кошельки : 5\n",
      "puma_Домашняя одежда и бельё___Гольфы : 4\n",
      "kenguru_Обувь___Лоферы : 19\n",
      "puma_Верхняя одежда___Парки : 2\n",
      "kenguru_Сумки_рюкзаки и чемоданы : 1\n",
      "puma_Джемперы_свитеры_кардиганы_кофты___Кардиганы : 1\n",
      "kenguru_Украшения___Комплекты : 1\n",
      "kenguru_Школьная одежда___Толстовки : 8\n",
      "kenguru_Верхняя одежда___Плащи : 24\n",
      "kenguru_Пляжная одежда___Раздельные купальники : 4\n",
      "kenguru_Джемперы_свитеры_кардиганы_кофты___Свитеры : 20\n",
      "kenguru_Платки_шарфы_шали___Платки : 4\n",
      "kenguru_Школьная одежда___Жилеты : 8\n",
      "kenguru_Школьная одежда___Пиджаки_жакеты : 15\n",
      "kenguru_Толстовки_олимпийки_худи_лонгсливы___Лонгсливы : 2\n",
      "kenguru_Школьная одежда___Юбки : 19\n",
      "kenguru_Украшения___Ожерелья : 1\n",
      "kenguru_Украшения___Серьги : 19\n",
      "puma_Комбинезоны : 5\n",
      "kenguru_Платья_сарафаны___Миди : 4\n",
      "kenguru_Обувь___Балетки : 10\n",
      "puma_Футболки_майки_поло_топы___Боди : 5\n",
      "kenguru_Толстовки_олимпийки_худи_лонгсливы___Худи : 9\n",
      "kenguru_Головные уборы___Шляпы : 24\n",
      "puma_Домашняя одежда и бельё___Халаты : 1\n",
      "kenguru_Джинсы___Прямые : 10\n",
      "kenguru_Юбки___Макси : 1\n",
      "puma_Костюмы_пиджаки___Жилеты : 7\n",
      "puma_Верхняя одежда : 4\n",
      "puma_Обувь___Слипоны : 2\n",
      "kenguru_Школьная одежда___Галстуки_бабочки : 9\n",
      "kenguru_Платья_сарафаны___Макси : 6\n",
      "kenguru_Юбки___Трапеция : 1\n",
      "puma_Аксессуары___Для волос : 15\n",
      "kenguru_Платья_сарафаны___Шелковые : 17\n",
      "kenguru_Юбки___Юбка-шорты : 5\n",
      "puma_Пляжная одежда___Раздельные купальники : 12\n",
      "kenguru_Пляжная одежда___Слитные купальники : 17\n",
      "kenguru_Школьная одежда___Фартуки : 5\n",
      "kenguru_Юбки___Плиссе : 19\n",
      "kenguru_Юбки___Тюльпан : 1\n",
      "kenguru_Брюки___Кюлоты : 4\n",
      "kenguru_Джинсы___Зауженные : 13\n",
      "puma_Джемперы_свитеры_кардиганы_кофты___Свитеры : 1\n",
      "puma_Сумки_рюкзаки и чемоданы___Тоут : 3\n",
      "kenguru_Брюки___Карго : 19\n",
      "puma_Юбки___Миди : 2\n",
      "kenguru_Юбки___Солнце : 1\n",
      "kenguru_Брюки___Клеш : 9\n",
      "kenguru_Школьная одежда___Шорты : 3\n",
      "puma_Обувь___Ботинки : 22\n",
      "kenguru_Обувь___Слипоны : 2\n",
      "puma_Футболки_майки_поло_топы : 22\n",
      "kenguru_Верхняя одежда___Парки : 9\n",
      "kenguru_Обувь___Эспадрильи : 2\n",
      "kenguru_Брюки___Укороченные : 2\n",
      "kenguru_Брюки___Широкие : 7\n",
      "puma_Сумки_рюкзаки и чемоданы___Мессенджер : 2\n",
      "Суммарное кол-во картинок в маленьких директориях: 731\n"
     ]
    }
   ],
   "source": [
    "small_types = []\n",
    "num_of_elements = 0\n",
    "for s in dir_dict.keys():\n",
    "    if len(dir_dict[s]) < 25:\n",
    "        print(s, \":\", len(dir_dict[s]))\n",
    "        num_of_elements += len(dir_dict[s])\n",
    "        small_types.append(s)\n",
    "\n",
    "        \n",
    "for i in small_types:\n",
    "    test_dirs[i] = dir_dict[i]\n",
    "\n",
    "print(f\"Суммарное кол-во картинок в маленьких директориях: {num_of_elements}\")"
   ]
  },
  {
   "cell_type": "code",
   "execution_count": 6,
   "id": "9a45b490",
   "metadata": {},
   "outputs": [],
   "source": [
    "percent = 0.3\n",
    "max_num_imgs = 100\n",
    "\n",
    "big_types = [i for i in dir_dict.keys() if i not in small_types]\n",
    "\n",
    "for dir_name in big_types:\n",
    "    dir_list = dir_dict[dir_name]\n",
    "    num_test_samples = min(int(percent * len(dir_list)), max_num_imgs)\n",
    "    test_list = random.sample(dir_list, num_test_samples)\n",
    "    train_list = [i for i in dir_list if i not in test_list]\n",
    "    \n",
    "    test_dirs[dir_name] = test_list\n",
    "    train_dirs[dir_name] = train_list"
   ]
  },
  {
   "cell_type": "code",
   "execution_count": 7,
   "id": "6562b8ee",
   "metadata": {
    "scrolled": true
   },
   "outputs": [
    {
     "name": "stdout",
     "output_type": "stream",
     "text": [
      "Кол-во картинок в тренировочном датасете: 20250\n"
     ]
    }
   ],
   "source": [
    "train_size = sum([len(i) for i in train_dirs.values()])\n",
    "print(f\"Кол-во картинок в тренировочном датасете: {train_size}\")"
   ]
  },
  {
   "cell_type": "code",
   "execution_count": 8,
   "id": "ecaaee79",
   "metadata": {},
   "outputs": [
    {
     "name": "stdout",
     "output_type": "stream",
     "text": [
      "Кол-во картинок в тестовом датасете: 5843\n"
     ]
    }
   ],
   "source": [
    "test_size = sum([len(i) for i in test_dirs.values()])\n",
    "print(f\"Кол-во картинок в тестовом датасете: {test_size}\")\n"
   ]
  },
  {
   "cell_type": "code",
   "execution_count": 9,
   "id": "0288c653",
   "metadata": {},
   "outputs": [
    {
     "name": "stdout",
     "output_type": "stream",
     "text": [
      "Пропорция: 0.2885432098765432\n"
     ]
    }
   ],
   "source": [
    "print(f\"Пропорция: {test_size/train_size}\")"
   ]
  },
  {
   "cell_type": "code",
   "execution_count": 10,
   "id": "3ca079d3",
   "metadata": {},
   "outputs": [
    {
     "data": {
      "text/plain": [
       "<BarContainer object of 116 artists>"
      ]
     },
     "execution_count": 10,
     "metadata": {},
     "output_type": "execute_result"
    },
    {
     "data": {
      "image/png": "[encoded data removed]",
      "text/plain": [
       "<Figure size 640x480 with 1 Axes>"
      ]
     },
     "metadata": {},
     "output_type": "display_data"
    }
   ],
   "source": [
    "plt.bar(\n",
    "    range(len(train_dirs)), \n",
    "    sorted([len(i) for i in train_dirs.values()]), align='center', alpha=0.5\n",
    ")"
   ]
  },
  {
   "cell_type": "code",
   "execution_count": 11,
   "id": "c86dd520",
   "metadata": {},
   "outputs": [
    {
     "data": {
      "text/plain": [
       "<BarContainer object of 211 artists>"
      ]
     },
     "execution_count": 11,
     "metadata": {},
     "output_type": "execute_result"
    },
    {
     "data": {
      "image/png": "[encoded data removed]",
      "text/plain": [
       "<Figure size 640x480 with 1 Axes>"
      ]
     },
     "metadata": {},
     "output_type": "display_data"
    }
   ],
   "source": [
    "plt.bar(\n",
    "    range(len(test_dirs)), \n",
    "    sorted([len(i) for i in test_dirs.values()]), align='center', alpha=0.5\n",
    ")"
   ]
  },
  {
   "cell_type": "code",
   "execution_count": 12,
   "id": "7765f860",
   "metadata": {},
   "outputs": [],
   "source": [
    "dataset_json = {\n",
    "    \"root_dir\": root_dir,\n",
    "    \"datasets\": {\n",
    "        \"train\": train_dirs,\n",
    "        \"test\": test_dirs\n",
    "    }\n",
    "}\n",
    "\n",
    "\n",
    "with open(\"datasets.json\", \"w\") as f:\n",
    "    json.dump(dataset_json, f, indent=4)"
   ]
  },
  {
   "cell_type": "code",
   "execution_count": null,
   "id": "a3bbb088",
   "metadata": {},
   "outputs": [],
   "source": []
  }
 ],
 "metadata": {
  "kernelspec": {
   "display_name": "Python 3 (ipykernel)",
   "language": "python",
   "name": "python3"
  },
  "language_info": {
   "codemirror_mode": {
    "name": "ipython",
    "version": 3
   },
   "file_extension": ".py",
   "mimetype": "text/x-python",
   "name": "python",
   "nbconvert_exporter": "python",
   "pygments_lexer": "ipython3",
   "version": "3.9.16"
  }
 },
 "nbformat": 4,
 "nbformat_minor": 5
}
